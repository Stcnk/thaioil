{
 "cells": [
  {
   "cell_type": "code",
   "execution_count": 2,
   "metadata": {},
   "outputs": [],
   "source": [
    "import os\n",
    "from docx import Document"
   ]
  },
  {
   "cell_type": "code",
   "execution_count": 3,
   "metadata": {},
   "outputs": [
    {
     "name": "stdout",
     "output_type": "stream",
     "text": [
      "Reading .doc file: 0700-01-003 Boiler Description.doc\n",
      "\n",
      "\n",
      "================================================================================\n",
      "\n",
      "Reading .doc file: 2700-01-005.doc\n",
      "\n",
      "\n",
      "================================================================================\n",
      "\n"
     ]
    }
   ],
   "source": [
    "def read_docx(file_path):\n",
    "    doc = Document(file_path)\n",
    "    full_text = []\n",
    "    for para in doc.paragraphs:\n",
    "        full_text.append(para.text)\n",
    "    return '\\n'.join(full_text)\n",
    "\n",
    "def read_doc(file_path):\n",
    "    output = os.popen(f\"antiword {file_path}\").read()\n",
    "    return output\n",
    "\n",
    "def read_all_docs_from_folder(folder_path):\n",
    "    for filename in os.listdir(folder_path):\n",
    "        file_path = os.path.join(folder_path, filename)\n",
    "        if filename.endswith('.docx'):\n",
    "            print(f\"Reading .docx file: {filename}\")\n",
    "            text = read_docx(file_path)\n",
    "        elif filename.endswith('.doc'):\n",
    "            print(f\"Reading .doc file: {filename}\")\n",
    "            text = read_doc(file_path)\n",
    "        else:\n",
    "            continue  # Skip non-Word files\n",
    "        print(text)\n",
    "        print(\"\\n\" + \"=\"*80 + \"\\n\")\n",
    "\n",
    "folder_path = r'C:\\Users\\(Satang)ChanikarnNik\\OneDrive - STelligence Co., Ltd\\Documents\\GitHub\\thaioil\\Training_Module'\n",
    "read_all_docs_from_folder(folder_path)\n"
   ]
  }
 ],
 "metadata": {
  "kernelspec": {
   "display_name": ".venv",
   "language": "python",
   "name": "python3"
  },
  "language_info": {
   "codemirror_mode": {
    "name": "ipython",
    "version": 3
   },
   "file_extension": ".py",
   "mimetype": "text/x-python",
   "name": "python",
   "nbconvert_exporter": "python",
   "pygments_lexer": "ipython3",
   "version": "3.10.9"
  }
 },
 "nbformat": 4,
 "nbformat_minor": 2
}
